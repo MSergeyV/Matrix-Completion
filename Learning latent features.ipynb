{
 "cells": [
  {
   "cell_type": "code",
   "execution_count": 1,
   "metadata": {},
   "outputs": [],
   "source": [
    "import numpy as np\n",
    "from scipy import sparse\n",
    "from scipy.linalg import solve\n",
    "import scipy.ndimage\n",
    "from collections import defaultdict\n",
    "import time\n",
    "from copy import deepcopy\n",
    "\n",
    "from scipy.sparse.csgraph import depth_first_tree\n",
    "from scipy.sparse.csgraph import connected_components\n",
    "from scipy.sparse.linalg import svds\n",
    "\n",
    "from scipy.sparse import csc_matrix\n",
    "from scipy.stats import ortho_group\n",
    "\n",
    "from scipy.sparse.linalg import cgs\n",
    "\n",
    "import warnings"
   ]
  },
  {
   "cell_type": "code",
   "execution_count": 31,
   "metadata": {},
   "outputs": [],
   "source": [
    "class LLF(object):\n",
    "\n",
    "    def __init__(self, max_iter=100, alpha=1.0, eta=1.0, gamma_x=1.0, gamma_y=1.0, tol=1e-2, n_neighbors=3):\n",
    "        self._max_iter = max_iter\n",
    "        self._tol = tol\n",
    "        self._n_neighbors = n_neighbors\n",
    "        self._gamma_x, self._gamma_y, self._alpha, self._eta = gamma_x, gamma_y, alpha, eta\n",
    "        \n",
    "        self._history = defaultdict(list)\n",
    "    \n",
    "    \n",
    "    def _generate_weight_graph(self, mat):\n",
    "        data = None\n",
    "        if mat == 'X':\n",
    "            data = self._data.toarray()\n",
    "        elif mat == 'Y':\n",
    "            data = self._data.toarray().T\n",
    "\n",
    "        row_pairwise_distances = np.empty((data.shape[0], data.shape[0]))\n",
    "        is_nan = np.isnan(data)\n",
    "        \n",
    "        # iterate over all possible pairs of rows\n",
    "        for i in range(data.shape[0]):\n",
    "            # take indices of not nan elements in the first row\n",
    "            not_nan_indices_i = np.argwhere(is_nan[i] != True).reshape(-1)\n",
    "\n",
    "            for j in range(i, data.shape[0]):\n",
    "                # take indices of not nan elements in the second row and then consider intersect of indices \n",
    "                # of not nan elements of the first and second rows\n",
    "                not_nan_indices_j = np.argwhere(is_nan[j] != True).reshape(-1)\n",
    "                intersect = np.intersect1d(not_nan_indices_i, not_nan_indices_j)\n",
    "                \n",
    "                # if intersection is not empty we can compute MSE over observed elemnts in both rows.\n",
    "                # if i==j then we compute distance between objects and itself, so the distance is equal to zero, thus\n",
    "                # we assign it to infinity.\n",
    "                if intersect.shape[0] > 0 and i != j:\n",
    "                    mse_of_observed_elements = np.sum((data[i][intersect] - data[j][intersect]) ** 2) \n",
    "                    mse_of_observed_elements = (mse_of_observed_elements / intersect.shape[0]) ** 0.5\n",
    "                    \n",
    "                    #we will bound minima distance between rows for more stable computations, because later\n",
    "                    #matrix of distances will be inversed element-wise.\n",
    "                    if mse_of_observed_elements > 1e-2:\n",
    "                        row_pairwise_distances[i][j] = np.round(mse_of_observed_elements, 2)\n",
    "                    else:\n",
    "                        row_pairwise_distances[i][j] = 1e-2\n",
    "                else:\n",
    "                    row_pairwise_distances[i][j] = np.inf\n",
    "        \n",
    "        # we computed upper triangular part of matrix of pairwise row distances, \n",
    "        # now we create full symmetric matrix of them\n",
    "        il = np.tril_indices(row_pairwise_distances.shape[0], -1)\n",
    "        row_pairwise_distances[il] = row_pairwise_distances[il[::-1]]\n",
    "        print('row pairwise {}'.format(mat))\n",
    "        print(row_pairwise_distances)\n",
    "        print('\\\\\\\\\\\\')\n",
    "        \n",
    "        #for each row we find k-nearest rows, their weights will not be nullified. \n",
    "        #All other rows should not be taken into account, so we create mask, where 1 stay on that positions\n",
    "        #which belong to k-neighbors set and 0 elsewhere.\n",
    "        ind_of_nearest = (np.repeat(np.arange(row_pairwise_distances.shape[0]).reshape(-1,1), \n",
    "                                    self._n_neighbors, axis=1), \n",
    "                          np.argsort(row_pairwise_distances, axis=1)[:, :self._n_neighbors])\n",
    "        mask = np.zeros(row_pairwise_distances.shape)\n",
    "        mask[ind_of_nearest] = 1\n",
    "\n",
    "        # Now we remove all cycles in graph.\n",
    "        # first of all we find all connectrd components in graph\n",
    "        n_components, component_label = connected_components(mask, directed=False)\n",
    "        unique_labels, unique_indices = np.unique(component_label, return_index=True)\n",
    "        result_mask = np.zeros(mask.shape)\n",
    "        # iterating over connected components we find spanned tree, which containes component\n",
    "        # and create new mask, such that it does not has cycles.\n",
    "        for i in range(n_components):\n",
    "            temporary_mask = depth_first_tree(mask, unique_indices[i], directed=False)\n",
    "            result_mask = result_mask + temporary_mask\n",
    "        # now we can compute weight matrix\n",
    "        weight_matrix = result_mask / row_pairwise_distances\n",
    "        weight_matrix = 0.5 * (weight_matrix + weight_matrix.T)\n",
    "        return weight_matrix\n",
    "    \n",
    "    def _generate_matrix_of_given_rank_and_shape(self, shape):\n",
    "        mat = np.zeros(shape)\n",
    "        np.fill_diagonal(mat, np.random.random(min(shape[0], shape[1])) * max(shape[0], shape[1]))\n",
    "        print(np.linalg.matrix_rank(mat))\n",
    "        return mat\n",
    "        \n",
    "    def _generate_Ex_matrix(self):\n",
    "        shape = (self._data.shape[0], self._eps_w.shape[0])\n",
    "        mat = np.zeros(shape)\n",
    "        plus_ones_args = (self._eps_w[:, 0], np.arange(self._eps_w.shape[0]))\n",
    "        min_ones_args = (self._eps_w[:, 1], np.arange(self._eps_w.shape[0]))\n",
    "        mat[plus_ones_args] = 1\n",
    "        mat[min_ones_args] = -1\n",
    "        self._Ex = mat\n",
    "        \n",
    "    def _generate_Ey_matrix(self):\n",
    "        shape = (self._data.shape[1], self._eps_u.shape[0])\n",
    "        mat = np.zeros(shape)\n",
    "        plus_ones_args = (self._eps_u[:, 0], np.arange(self._eps_u.shape[0]))\n",
    "        min_ones_args = (self._eps_u[:, 1], np.arange(self._eps_u.shape[0]))\n",
    "        mat[plus_ones_args] = 1\n",
    "        mat[min_ones_args] = -1\n",
    "        self._Ey = mat\n",
    "    \n",
    "    def _generate_initial_matrices(self):\n",
    "        #self._X_input, self._dim = X, d\n",
    "        print('generate first mat')\n",
    "        self._weight_X = self._generate_weight_graph('X')\n",
    "        print('X weights\\n', self._weight_X)\n",
    "        print('<<<<<<<')\n",
    "        print('generate second mat')\n",
    "        self._weight_Y = self._generate_weight_graph('Y')\n",
    "        print('Y weights\\n', self._weight_Y)\n",
    "        print('<<<<<<<')\n",
    "        \n",
    "        # random initialization of training parameters.\n",
    "        self._X_fac = self._generate_matrix_of_given_rank_and_shape((self._data.shape[0], self._rank))\n",
    "        self._Y_fac = self._generate_matrix_of_given_rank_and_shape((self._data.shape[1], self._rank))\n",
    "        print('Yshape1: {}'.format(self._Y_fac.shape))\n",
    "        \n",
    "        self._eps_w = np.argwhere(self._weight_X > 0)\n",
    "        self._eps_w = self._eps_w[self._eps_w[:,0] < self._eps_w[:,1]]\n",
    "        self._eps_u = np.argwhere(self._weight_Y > 0)\n",
    "        self._eps_u = self._eps_u[self._eps_u[:,0] < self._eps_u[:,1]]\n",
    "        \n",
    "        self._Lambda_constr = np.random.rand(self._rank, self._eps_w.shape[0])\n",
    "        self._V_constr = np.random.rand(self._rank, self._eps_u.shape[0])\n",
    "        \n",
    "        self._generate_Ex_matrix()\n",
    "        self._generate_Ey_matrix()\n",
    "        \n",
    "        self._P = np.zeros((self._rank, self._eps_w.shape[0]))\n",
    "        self._Q = np.zeros((self._rank, self._eps_u.shape[0]))\n",
    "        \n",
    "        \n",
    "#-------------functions to make updates\n",
    "    \n",
    "    def _gen_block_diag_Gx_matrix_with_n_blocks(self):\n",
    "        \"\"\"\n",
    "        This function generates block-diagonal matric for plugging into conjugate gradient method\n",
    "        \"\"\"\n",
    "     \n",
    "        #we compute the first block independently outside the loop\n",
    "        #first of all find arguments of observed elements in the first row of data\n",
    "        args = np.argwhere(~np.isnan(self._data[0].toarray()))[:, 1]\n",
    "        #take rows of Y_fac matrix which correspond to columns of observed elements\n",
    "        rows_in_Y = self._Y_fac[args, :]\n",
    "        res = np.einsum('ij, ik->jk', rows_in_Y, rows_in_Y)\n",
    "        #inside the loop we repeat the same operations and stack the results along the diagonal\n",
    "        for i in range(1, self._data.shape[0]):\n",
    "            args = np.argwhere(~np.isnan(self._data[i].toarray()))[:, 1]\n",
    "            rows_in_Y = self._Y_fac[args, :]\n",
    "            res = scipy.linalg.block_diag(res, np.einsum('ij, ik->jk', rows_in_Y, rows_in_Y)) \n",
    "        return res\n",
    "    \n",
    "    def _gen_matrix_cg_X(self):\n",
    "        \"\"\"\n",
    "        This function computes matrix of system which pushes gradient to zero.\n",
    "        \"\"\"\n",
    "        #initialize result variable with matrix obtained from function \n",
    "        result = self._gen_block_diag_Gx_matrix_with_n_blocks()\n",
    "        #add second term\n",
    "        result = result + scipy.linalg.kron((self._eta * self._Ex.dot(self._Ex.T) + (self._alpha + 1) * np.eye(self._Ex.shape[0])), np.eye(self._rank))\n",
    "        return result\n",
    "            \n",
    "    def _gen_vector_b_y(self):\n",
    "        \"\"\"\n",
    "        This function creates vector from smaller vectors. The result one will be used to obtain the right part\n",
    "        of system of linear equations which pushes gradient to zero.\n",
    "        \"\"\"\n",
    "        b_y = None\n",
    "        for i in range(self._data.shape[0]):\n",
    "            if i == 0:\n",
    "                #on the first iteration we initialize vector\n",
    "                #we find arguments of not nan elements in the first row of data matrix\n",
    "                args_of_not_nan = np.argwhere(~np.isnan(self._data[0].toarray()))[:, 1]\n",
    "                #we find not nan elements in 1 row of data matrix and multiply the corresponding rows\n",
    "                #of Y_fac matrix with them, after that we sum these row and obtain b_y\n",
    "                b_y = self._Y_fac[args_of_not_nan]\n",
    "                b_y = b_y * self._data[0].toarray()[0][args_of_not_nan].reshape(-1,1)\n",
    "                b_y = np.sum(b_y, axis=0)\n",
    "            else:\n",
    "                args_of_not_nan = np.argwhere(~np.isnan(self._data[i].toarray()))[:, 1]\n",
    "                add = np.sum(self._Y_fac[args_of_not_nan] * self._data[i].toarray()[0][args_of_not_nan].reshape(-1,1), \n",
    "                             axis=0)\n",
    "                b_y = np.concatenate((b_y, add))\n",
    "\n",
    "        flag = np.sum(np.isnan(b_y).astype(int))\n",
    "        if flag != 0:\n",
    "            raise Exception('Nans in vector')\n",
    "    \n",
    "        return b_y\n",
    "    \n",
    "    def _gen_vector_C_y(self):\n",
    "        \"\"\"\n",
    "        This function computes vector from the right part of system of linear equations.\n",
    "        \"\"\"\n",
    "        b_y = self._gen_vector_b_y()\n",
    "        C = b_y + (self._X_fac.T + self._eta * self._P.dot(self._Ex.T) + self._Lambda_constr.dot(self._Ex.T)).ravel(order='F')\n",
    "        return C\n",
    "    \n",
    "    def _f(self, M):\n",
    "        vec = M.ravel(order='F')\n",
    "        mat = self._gen_block_diag_Gx_matrix_with_n_blocks()\n",
    "        C = self._gen_vector_C_y()\n",
    "        return 0.5 * vec.reshape(1,-1).dot(mat.dot(vec.reshape(-1,1))) - C.dot(vec)\n",
    "    \n",
    "    def _F(self, x):\n",
    "        res = 0\n",
    "        for ind in self._not_nan_indices:\n",
    "            res += (self._data[ind[0], ind[1]] - x[ind[0]].dot(self._Y_fac[ind[1]])) ** 2\n",
    "        res += self._eta / 2.0 * (np.linalg.norm(self._P - x.T.dot(self._Ex)) ** 2)\n",
    "        res += np.sum(np.diag(self._Lambda_constr.T.dot(self._P - x.T.dot(self._Ex))))\n",
    "        res += self._alpha / 2.0 * np.power(np.linalg.norm(x), 2)\n",
    "        res += 0.5 * np.power(np.linalg.norm(x - self._X_fac), 2)\n",
    "        return res\n",
    "    \n",
    "#-------------------------------------------------------------------     \n",
    "    \n",
    "    def _gen_block_diag_Gy_matrix_with_m_blocks(self):\n",
    "        \"\"\"\n",
    "        This function generates block-diagonal matric for plugging into conjugate gradient method\n",
    "        \"\"\"\n",
    "        res = np.zeros((self._rank, self._rank))\n",
    "        args = np.argwhere(~np.isnan(self._data.T[0].toarray()))[:, 1]\n",
    "        rows_in_X = self._X_fac[args, :]\n",
    "        res = np.einsum('ij, ik->jk', rows_in_X, rows_in_X)\n",
    "        for i in range(1, self._data.shape[1]):\n",
    "            args = np.argwhere(~np.isnan(self._data.T[i].toarray()))[:, 1]\n",
    "            rows_in_X = self._X_fac[args, :]\n",
    "            res = scipy.linalg.block_diag(res, np.einsum('ij, ik->jk', rows_in_X, rows_in_X)) \n",
    "        return res\n",
    "    \n",
    "    def _gen_matrix_cg_Y(self):\n",
    "        result = self._gen_block_diag_Gy_matrix_with_m_blocks() \n",
    "        result = result + scipy.linalg.kron((self._eta * self._Ey.dot(self._Ey.T) + (self._alpha + 1) * np.eye(self._Ey.shape[0])), \n",
    "                                            np.eye(self._rank))\n",
    "        return result\n",
    "            \n",
    "    def _gen_matrix_b_x(self):\n",
    "        b_x = None\n",
    "        for i in range(self._data.shape[1]):\n",
    "            if i == 0:\n",
    "                args_of_not_nan = np.argwhere(~np.isnan(self._data.T[0].toarray()))[:, 1]\n",
    "                b_x = np.sum(self._X_fac[args_of_not_nan] * self._data.T[0].toarray()[0][args_of_not_nan].reshape(-1,1),\n",
    "                             axis=0)\n",
    "            else:\n",
    "                args_of_not_nan = np.argwhere(~np.isnan(self._data.T[i].toarray()))[:, 1]\n",
    "                add = np.sum(self._X_fac[args_of_not_nan] * self._data.T[i].toarray()[0][args_of_not_nan].reshape(-1,1), \n",
    "                             axis=0)\n",
    "                b_x = np.concatenate((b_x, add))\n",
    "        flag = np.sum(np.isnan(b_x).astype(int))\n",
    "        if flag != 0:\n",
    "            raise Exception('Nans in matrix')\n",
    "        return b_x\n",
    "    \n",
    "    def _gen_matrix_C_x(self):\n",
    "        b_x = self._gen_matrix_b_x()\n",
    "        C = b_x + (self._Y_fac.T + self._eta * self._Q.dot(self._Ey.T) + self._V_constr.dot(self._Ey.T)).ravel()\n",
    "        return C\n",
    "    \n",
    "#-------------------------------------------------------------------    \n",
    "\n",
    "    def fit(self, X, d):\n",
    "        self._not_nan_indices = np.argwhere(~np.isnan(X.toarray()))\n",
    "        if d > min(X.shape[0], X.shape[1]):\n",
    "            raise Exception('Rank of X and Y must be less than mininimal dimension of matrix. Got rank {}, minimal dimension {}'.format(d, min(X.shape[0], X.shape[1])))\n",
    "        self._rank = d\n",
    "        self._data = X\n",
    "        self._generate_initial_matrices()\n",
    "        print('X^T.dot(E_x)')\n",
    "        print(self._X_fac.T.dot(self._Ex))\n",
    "        print('+++++++')\n",
    "        print('Y^T.dot(E_y)')\n",
    "        print(self._Y_fac.T.dot(self._Ey))\n",
    "        print('------')\n",
    "        \n",
    "        print(self._f(np.ones(self._X_fac.shape)))\n",
    "        print(self._F(np.ones(self._X_fac.shape)))\n",
    "        \"\"\"for it in range(self._max_iter):\n",
    "            print('ITITITITITITITITITI iteration {}'.format(it))\n",
    "            for i in range(self._eps_w.shape[0]):\n",
    "                weight_index = self._eps_w[i]\n",
    "                #print(self._P[:,i].shape, self._X_fac.T.shape, self._Ex[:, i].shape, self._Lambda_constr[:,i].shape, self._weight_X[weight_index[0], weight_index[1]])\n",
    "                aux = self._X_fac.T.dot(self._Ex[:, i]) - self._eta ** (-1) * self._Lambda_constr[:,i]\n",
    "                self._P[:,i] = (aux ) * np.power((1 + self._weight_X[weight_index[0], weight_index[1]] / self._eta), -1)\n",
    "                \n",
    "            for i in range(self._eps_u.shape[0]):\n",
    "                weight_index = self._eps_u[i]\n",
    "                aux = self._Y_fac.T.dot(self._Ey[:, i]) - self._eta ** (-1) * self._V_constr[:,i]\n",
    "                self._Q[:,i] = aux * np.power((1 + self._weight_Y[weight_index[0], weight_index[1]] / self._eta), -1)\n",
    "                \n",
    "            self._X_fac = cgs(self._gen_matrix_cg_X(), self._gen_matrix_C_y())[0].reshape(self._X_fac.T.shape).T\n",
    "            self._Y_fac = cgs(self._gen_matrix_cg_Y(), self._gen_matrix_C_x())[0].reshape(self._Y_fac.T.shape).T\n",
    "            \n",
    "            self._Lambda_constr = self._Lambda_constr + self._eta * (self._P - self._X_fac.T.dot(self._Ex))\n",
    "            self._V_constr = self._V_constr + self._eta * (self._Q - self._Y_fac.T.dot(self._Ey))\n",
    "            \n",
    "            difference = (self._data - self._X_fac.dot(self._Y_fac.T))[self._not_nan_indices[:, 0], self._not_nan_indices[:, 1]]\n",
    "            self._history['error'].append(np.mean(np.power(difference, 2)))\"\"\"\n",
    "        #self._gen_matrix_cg_X()\n",
    "        #self._gen_matrix_C_y()\n",
    "        #print('-----1111111', self._gen_matrix_C_y())\n",
    "        #print(np.linalg.norm(self._gen_matrix_cg_X().dot(cgs(self._gen_matrix_cg_X(), self._gen_matrix_C_y())[0]) - self._gen_matrix_C_y()))\n",
    "        #self._gen_matrix_cg_Y()\n",
    "        #self._gen_matrix_C_x()\n",
    "        \n",
    "            \n",
    "            \n",
    "    def solution(self):\n",
    "        return None\n",
    "    \n",
    "    def get_weights_X(self):\n",
    "        return self._weight_X\n",
    "    \n",
    "    def get_weights_Y(self):\n",
    "        return self._weight_Y\n",
    "    \n",
    "    def get_history(self):\n",
    "        return self._history"
   ]
  },
  {
   "cell_type": "code",
   "execution_count": 32,
   "metadata": {},
   "outputs": [
    {
     "data": {
      "text/plain": [
       "array([[nan,  0., nan,  3., nan],\n",
       "       [ 0., nan,  1., nan,  2.],\n",
       "       [nan, nan,  3.,  4., nan],\n",
       "       [ 1.,  2., nan,  3.,  1.],\n",
       "       [nan, nan,  1., nan, nan],\n",
       "       [ 1.,  1., nan,  0.,  1.],\n",
       "       [ 1., nan,  3.,  1., nan],\n",
       "       [nan, nan,  2.,  1.,  0.]])"
      ]
     },
     "execution_count": 32,
     "metadata": {},
     "output_type": "execute_result"
    }
   ],
   "source": [
    "a.toarray()"
   ]
  },
  {
   "cell_type": "code",
   "execution_count": 33,
   "metadata": {
    "scrolled": false
   },
   "outputs": [
    {
     "name": "stdout",
     "output_type": "stream",
     "text": [
      "generate first mat\n",
      "row pairwise X\n",
      "[[ inf  inf 1.   1.41  inf 2.24 2.   2.  ]\n",
      " [ inf  inf 2.   1.   0.01 1.   1.58 1.58]\n",
      " [1.   2.    inf 1.   2.   4.   2.12 2.24]\n",
      " [1.41 1.   1.    inf  inf 1.58 1.41 1.58]\n",
      " [ inf 0.01 2.    inf  inf  inf 2.   1.  ]\n",
      " [2.24 1.   4.   1.58  inf  inf 0.71 1.  ]\n",
      " [2.   1.58 2.12 1.41 2.   0.71  inf 0.71]\n",
      " [2.   1.58 2.24 1.58 1.   1.   0.71  inf]]\n",
      "\\\\\\\n",
      "X weights\n",
      " [[0.         0.         0.5        0.         0.         0.\n",
      "  0.         0.        ]\n",
      " [0.         0.         0.25       0.5        0.         0.\n",
      "  0.         0.        ]\n",
      " [0.5        0.25       0.         0.         0.         0.\n",
      "  0.         0.        ]\n",
      " [0.         0.5        0.         0.         0.         0.\n",
      "  0.35460993 0.        ]\n",
      " [0.         0.         0.         0.         0.         0.\n",
      "  0.         0.5       ]\n",
      " [0.         0.         0.         0.         0.         0.\n",
      "  0.70422535 0.5       ]\n",
      " [0.         0.         0.         0.35460993 0.         0.70422535\n",
      "  0.         0.        ]\n",
      " [0.         0.         0.         0.         0.5        0.5\n",
      "  0.         0.        ]]\n",
      "<<<<<<<\n",
      "generate second mat\n",
      "row pairwise Y\n",
      "[[ inf 0.71 1.58 1.29 1.15]\n",
      " [0.71  inf  inf 1.91 0.71]\n",
      " [1.58  inf  inf 1.41 1.58]\n",
      " [1.29 1.91 1.41  inf 1.41]\n",
      " [1.15 0.71 1.58 1.41  inf]]\n",
      "\\\\\\\n",
      "Y weights\n",
      " [[0.         0.70422535 0.         0.         0.        ]\n",
      " [0.70422535 0.         0.         0.2617801  0.        ]\n",
      " [0.         0.         0.         0.35460993 0.3164557 ]\n",
      " [0.         0.2617801  0.35460993 0.         0.        ]\n",
      " [0.         0.         0.3164557  0.         0.        ]]\n",
      "<<<<<<<\n",
      "3\n",
      "3\n",
      "Yshape1: (5, 3)\n",
      "X^T.dot(E_x)\n",
      "[[ 1.85360758  0.          0.          0.          0.          0.\n",
      "   0.        ]\n",
      " [ 0.          0.02731052  0.02731052  0.          0.          0.\n",
      "   0.        ]\n",
      " [-2.51447571 -2.51447571  0.          0.          0.          0.\n",
      "   0.        ]]\n",
      "+++++++\n",
      "Y^T.dot(E_y)\n",
      "[[ 2.28713393  0.          0.          0.        ]\n",
      " [-0.93108864  0.93108864  0.          0.        ]\n",
      " [ 0.          0.          2.38505138  2.38505138]]\n",
      "------\n",
      "[[-11.9170478]]\n",
      "83.44089573808147\n"
     ]
    }
   ],
   "source": [
    "a = sparse.csr_matrix(np.array([[np.nan, 0, np.nan, 3, np.nan],\n",
    "       [0, np.nan, 1, np.nan, 2],\n",
    "       [np.nan, np.nan, 3, 4, np.nan],\n",
    "       [1, 2, np.nan, 3, 1],\n",
    "       [np.nan, np.nan, 1, np.nan, np.nan],\n",
    "       [1, 1, np.nan, 0, 1],\n",
    "       [1, np.nan, 3, 1, np.nan],\n",
    "       [np.nan, np.nan, 2, 1, 0]]))\n",
    "llf = LLF()\n",
    "llf.fit(a, 3)"
   ]
  },
  {
   "cell_type": "code",
   "execution_count": 14,
   "metadata": {
    "scrolled": false
   },
   "outputs": [
    {
     "data": {
      "text/plain": [
       "[]"
      ]
     },
     "execution_count": 14,
     "metadata": {},
     "output_type": "execute_result"
    }
   ],
   "source": [
    "llf.get_history()['error']"
   ]
  },
  {
   "cell_type": "code",
   "execution_count": 236,
   "metadata": {},
   "outputs": [],
   "source": [
    "a = sparse.csr_matrix(np.array([[np.nan, 0, np.nan, 3, np.nan],\n",
    "       [0, np.nan, 1, np.nan, 2],\n",
    "       [np.nan, np.nan, 3, 4, np.nan],\n",
    "       [1, 2, np.nan, 3, 1],\n",
    "       [np.nan, np.nan, 1, np.nan, np.nan],\n",
    "       [1, 1, np.nan, 0, 1],\n",
    "       [1, np.nan, 3, 1, np.nan],\n",
    "       [np.nan, np.nan, 2, 1, 0]]))"
   ]
  },
  {
   "cell_type": "code",
   "execution_count": 42,
   "metadata": {},
   "outputs": [
    {
     "name": "stdout",
     "output_type": "stream",
     "text": [
      "Yshape: (24, 24)\n"
     ]
    }
   ],
   "source": [
    "Y = np.random.rand(a.shape[1], 3)\n",
    "res = np.zeros((3, 3))\n",
    "args = np.argwhere(~np.isnan(a[0].toarray())).reshape(-1,)\n",
    "for arg in args:\n",
    "    res = res + Y[arg].reshape(-1,1).dot(Y[arg].reshape(1,-1))\n",
    "\n",
    "for i in range(1, a.shape[0]):\n",
    "        args = np.argwhere(~np.isnan(a[i].toarray()))[:, 1]\n",
    "        #print(args)\n",
    "        elements = Y[args, :]\n",
    "        #print(elements)\n",
    "        temp_res = np.zeros((3, 3))\n",
    "        for arg in args:\n",
    "            temp_res = temp_res + Y[arg].reshape(-1,1).dot(Y[arg].reshape(1,-1))\n",
    "        res = scipy.linalg.block_diag(res, temp_res)\n",
    "            \n",
    "print('Yshape: {}'.format(res.shape))"
   ]
  },
  {
   "cell_type": "code",
   "execution_count": 105,
   "metadata": {},
   "outputs": [
    {
     "name": "stdout",
     "output_type": "stream",
     "text": [
      "[1 3]\n"
     ]
    },
    {
     "data": {
      "text/plain": [
       "(24, 24)"
      ]
     },
     "execution_count": 105,
     "metadata": {},
     "output_type": "execute_result"
    }
   ],
   "source": [
    "Y = np.random.rand(a.shape[1], 3)\n",
    "res = np.zeros((3, 3))\n",
    "args = np.argwhere(~np.isnan(a[0].toarray()))[:, 1]\n",
    "print(args)\n",
    "for arg in args:\n",
    "    res = res + Y[arg].reshape(-1,1).dot(Y[arg].reshape(1,-1))\n",
    "\n",
    "for i in range(1, a.shape[0]):\n",
    "        args = np.argwhere(~np.isnan(a[i].toarray()))[:, 1]\n",
    "        for arg in args:\n",
    "            temp_res = temp_res + Y[arg].reshape(-1,1).dot(Y[arg].reshape(1,-1))\n",
    "        res = scipy.linalg.block_diag(res, np.einsum('ij, ik->jk', elements, elements))\n",
    "res.shape"
   ]
  },
  {
   "cell_type": "code",
   "execution_count": 150,
   "metadata": {},
   "outputs": [
    {
     "data": {
      "text/plain": [
       "0.0"
      ]
     },
     "execution_count": 150,
     "metadata": {},
     "output_type": "execute_result"
    }
   ],
   "source": [
    "llf.get_weights_X()[0,0]"
   ]
  },
  {
   "cell_type": "code",
   "execution_count": 99,
   "metadata": {},
   "outputs": [
    {
     "data": {
      "text/plain": [
       "array([[nan,  0., nan,  3., nan],\n",
       "       [ 0., nan,  1., nan,  2.],\n",
       "       [nan, nan,  3.,  4., nan],\n",
       "       [ 1.,  2., nan,  3.,  1.],\n",
       "       [nan, nan,  1., nan, nan],\n",
       "       [ 1.,  1., nan,  0.,  1.],\n",
       "       [ 1., nan,  3.,  1., nan],\n",
       "       [nan, nan,  2.,  1.,  0.]])"
      ]
     },
     "execution_count": 99,
     "metadata": {},
     "output_type": "execute_result"
    }
   ],
   "source": [
    "a.toarray()"
   ]
  },
  {
   "cell_type": "code",
   "execution_count": 100,
   "metadata": {},
   "outputs": [
    {
     "data": {
      "text/plain": [
       "array([0, 2, 3, 4, 1, 2, 3, 4, 0, 1, 2, 3, 4, 0, 1, 2, 3, 4, 0, 1, 2, 3,\n",
       "       4, 0, 1, 2, 4, 0, 1, 2, 3, 4, 0, 1, 2, 3], dtype=int32)"
      ]
     },
     "execution_count": 100,
     "metadata": {},
     "output_type": "execute_result"
    }
   ],
   "source": [
    "a.indices"
   ]
  },
  {
   "cell_type": "code",
   "execution_count": 110,
   "metadata": {},
   "outputs": [
    {
     "data": {
      "text/plain": [
       "matrix([[0., 3., 0., 1., 2., 3., 4., 1., 2., 3., 1., 1., 1., 1., 0., 1.,\n",
       "         1., 3., 1., 2., 1., 0.]])"
      ]
     },
     "execution_count": 110,
     "metadata": {},
     "output_type": "execute_result"
    }
   ],
   "source": [
    "a[np.argwhere(~np.isnan(a.toarray()))[:,0], np.argwhere(~np.isnan(a.toarray()))[:,1]]"
   ]
  },
  {
   "cell_type": "code",
   "execution_count": 108,
   "metadata": {},
   "outputs": [
    {
     "data": {
      "text/plain": [
       "array([[0, 1],\n",
       "       [0, 3],\n",
       "       [1, 0],\n",
       "       [1, 2],\n",
       "       [1, 4],\n",
       "       [2, 2],\n",
       "       [2, 3],\n",
       "       [3, 0],\n",
       "       [3, 1],\n",
       "       [3, 3],\n",
       "       [3, 4],\n",
       "       [4, 2],\n",
       "       [5, 0],\n",
       "       [5, 1],\n",
       "       [5, 3],\n",
       "       [5, 4],\n",
       "       [6, 0],\n",
       "       [6, 2],\n",
       "       [6, 3],\n",
       "       [7, 2],\n",
       "       [7, 3],\n",
       "       [7, 4]])"
      ]
     },
     "execution_count": 108,
     "metadata": {},
     "output_type": "execute_result"
    }
   ],
   "source": [
    "np.argwhere(~np.isnan(a.toarray()))"
   ]
  },
  {
   "cell_type": "code",
   "execution_count": 111,
   "metadata": {},
   "outputs": [
    {
     "data": {
      "text/plain": [
       "array([0, 1, 2, 0, 1, 2, 3])"
      ]
     },
     "execution_count": 111,
     "metadata": {},
     "output_type": "execute_result"
    }
   ],
   "source": [
    "np.concatenate((np.arange(3), np.arange(4)))"
   ]
  },
  {
   "cell_type": "code",
   "execution_count": 178,
   "metadata": {},
   "outputs": [
    {
     "data": {
      "text/plain": [
       "array([[0, 2, 1, 2, 2],\n",
       "       [2, 1, 1, 1, 0],\n",
       "       [1, 2, 2, 1, 0],\n",
       "       [2, 2, 1, 2, 1]])"
      ]
     },
     "execution_count": 178,
     "metadata": {},
     "output_type": "execute_result"
    }
   ],
   "source": [
    "a = np.random.randint(0,3, (4,5))\n",
    "a"
   ]
  },
  {
   "cell_type": "code",
   "execution_count": 223,
   "metadata": {},
   "outputs": [],
   "source": [
    "np.ravel?"
   ]
  },
  {
   "cell_type": "code",
   "execution_count": null,
   "metadata": {},
   "outputs": [],
   "source": [
    "    def _gen_Gx_matrix(self):\n",
    "        res = np.zeros((self._rank, self._rank))\n",
    "        args = np.argwhere(~np.isnan(self._data.T[0].toarray()))[:, 1]\n",
    "        elements = self._X_fac[args, :]\n",
    "        res = np.einsum('ij, ik->jk', elements, elements)\n",
    "        for i in range(1, self._data.shape[1]):\n",
    "            args = np.argwhere(~np.isnan(self._data.T[i].toarray()))[:, 1]\n",
    "            elements = self._X_fac[args, :]\n",
    "            res = scipy.linalg.block_diag(res, np.einsum('ij, ik->jk', elements, elements)) \n",
    "        return res\n",
    "    \n",
    "    def _gen_matrix_cg_Y(self):\n",
    "        result = self._gen_Gx_matrix() + scipy.linalg.kron((self._eta * self._Ey.dot(self._Ey.T) + (self._alpha + 1) * np.eye(self._Ey.shape[0])), \n",
    "                                                           np.eye(self._rank))\n",
    "        return result\n",
    "            \n",
    "    def _gen_matrix_b_y(self):\n",
    "        b_y = None\n",
    "        for i in range(self._data.shape[1]):\n",
    "            if i == 0:\n",
    "                args_of_not_nan = np.argwhere(~np.isnan(self._data.T[0].toarray()))[:, 1]\n",
    "                b_y = np.sum(self._X_fac[args_of_not_nan] * self._data.T[0].toarray()[0][args_of_not_nan].reshape(-1,1),\n",
    "                             axis=0)\n",
    "            else:\n",
    "                args_of_not_nan = np.argwhere(~np.isnan(self._data.T[i].toarray()))[:, 1]\n",
    "                add = np.sum(self._X_fac[args_of_not_nan] * self._data.T[i].toarray()[0][args_of_not_nan].reshape(-1,1), \n",
    "                             axis=0)\n",
    "                b_x = np.concatenate((b_x, add))\n",
    "        flag = np.sum(np.isnan(b_x).astype(int))\n",
    "        if flag != 0:\n",
    "            raise Exception('Nans in matrix')\n",
    "        return b_x\n",
    "    \n",
    "    def _gen_matrix_C_x(self):\n",
    "        b_x = self._gen_matrix_b_x()\n",
    "        C = b_x + (self._Y_fac.T + self._eta * self._Q.dot(self._Ex.T) + self._V_constr.dot(self._Ey.T)).ravel()\n",
    "        return C"
   ]
  },
  {
   "cell_type": "code",
   "execution_count": 220,
   "metadata": {},
   "outputs": [
    {
     "data": {
      "text/plain": [
       "array([[ 0,  1,  2,  3],\n",
       "       [ 4,  5,  6,  7],\n",
       "       [ 8,  9, 10, 11]])"
      ]
     },
     "execution_count": 220,
     "metadata": {},
     "output_type": "execute_result"
    }
   ],
   "source": [
    "np.arange(12).reshape(3,4)"
   ]
  },
  {
   "cell_type": "code",
   "execution_count": 226,
   "metadata": {},
   "outputs": [
    {
     "data": {
      "text/plain": [
       "array([ 0,  4,  8,  1,  5,  9,  2,  6, 10,  3,  7, 11])"
      ]
     },
     "execution_count": 226,
     "metadata": {},
     "output_type": "execute_result"
    }
   ],
   "source": [
    "np.arange(12).reshape(3,4).ravel(order='F')"
   ]
  },
  {
   "cell_type": "code",
   "execution_count": 29,
   "metadata": {},
   "outputs": [
    {
     "data": {
      "text/plain": [
       "array([[2.28527561, 1.6442932 , 1.27190273, 1.12878651, 2.1809423 ,\n",
       "        1.14582379],\n",
       "       [1.6442932 , 1.33906341, 0.73981177, 0.9920526 , 1.62059768,\n",
       "        0.7214189 ],\n",
       "       [1.27190273, 0.73981177, 0.96507636, 0.38741789, 1.17528503,\n",
       "        0.7861035 ],\n",
       "       [1.12878651, 0.9920526 , 0.38741789, 0.78981108, 1.12415308,\n",
       "        0.42622525],\n",
       "       [2.1809423 , 1.62059768, 1.17528503, 1.12415308, 2.10443688,\n",
       "        1.06999147],\n",
       "       [1.14582379, 0.7214189 , 0.7861035 , 0.42622525, 1.06999147,\n",
       "        0.66021036]])"
      ]
     },
     "execution_count": 29,
     "metadata": {},
     "output_type": "execute_result"
    }
   ],
   "source": [
    "rows_in_X = np.random.rand(18).reshape(3,6)\n",
    "res = np.einsum('ij, ik->jk', rows_in_X, rows_in_X)\n",
    "res"
   ]
  },
  {
   "cell_type": "code",
   "execution_count": 30,
   "metadata": {},
   "outputs": [
    {
     "data": {
      "text/plain": [
       "array([[2.28527561, 1.6442932 , 1.27190273, 1.12878651, 2.1809423 ,\n",
       "        1.14582379],\n",
       "       [1.6442932 , 1.33906341, 0.73981177, 0.9920526 , 1.62059768,\n",
       "        0.7214189 ],\n",
       "       [1.27190273, 0.73981177, 0.96507636, 0.38741789, 1.17528503,\n",
       "        0.7861035 ],\n",
       "       [1.12878651, 0.9920526 , 0.38741789, 0.78981108, 1.12415308,\n",
       "        0.42622525],\n",
       "       [2.1809423 , 1.62059768, 1.17528503, 1.12415308, 2.10443688,\n",
       "        1.06999147],\n",
       "       [1.14582379, 0.7214189 , 0.7861035 , 0.42622525, 1.06999147,\n",
       "        0.66021036]])"
      ]
     },
     "execution_count": 30,
     "metadata": {},
     "output_type": "execute_result"
    }
   ],
   "source": [
    "res = np.zeros((6,6))\n",
    "for row in rows_in_X:\n",
    "    res = res + row.reshape(-1,1).dot(row.reshape(1,-1))\n",
    "res"
   ]
  },
  {
   "cell_type": "code",
   "execution_count": null,
   "metadata": {},
   "outputs": [],
   "source": []
  }
 ],
 "metadata": {
  "kernelspec": {
   "display_name": "Python 3",
   "language": "python",
   "name": "python3"
  },
  "language_info": {
   "codemirror_mode": {
    "name": "ipython",
    "version": 3
   },
   "file_extension": ".py",
   "mimetype": "text/x-python",
   "name": "python",
   "nbconvert_exporter": "python",
   "pygments_lexer": "ipython3",
   "version": "3.6.3"
  }
 },
 "nbformat": 4,
 "nbformat_minor": 2
}
